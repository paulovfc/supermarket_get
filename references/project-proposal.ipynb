{
  "cells": [
    {
      "cell_type": "markdown",
      "metadata": {
        "id": "Q5NLVrM3bSXD"
      },
      "source": [
        "# Project proposal\n",
        "\n",
        "---\n",
        "\n",
        "Group name:\n",
        "\n",
        "---\n"
      ]
    },
    {
      "cell_type": "markdown",
      "metadata": {
        "id": "kzwelmWVbSXE"
      },
      "source": [
        "## Introduction\n",
        "\n",
        "The introduction section includes\n",
        "\n",
        "-   an introduction to the subject matter you're investigating\n",
        "-   the motivation for your research question (citing any relevant literature)\n",
        "-   the general research question you wish to explore\n",
        "-   your hypotheses regarding the research question of interest."
      ]
    },
    {
      "cell_type": "markdown",
      "metadata": {
        "id": "HmEHtpyibSXE"
      },
      "source": [
        "\n",
        "## Data description\n",
        "\n",
        "In this section, you will describe the data set you wish to explore. This includes\n",
        "\n",
        "-   description of the observations in the data set,\n",
        "-   description of how the data was originally collected (not how you found the data but how the original curator of the data collected it)."
      ]
    },
    {
      "cell_type": "markdown",
      "metadata": {
        "id": "c4rc1RytbSXF"
      },
      "source": [
        "\n",
        "## Analysis approach\n",
        "\n",
        "In this section, you will provide a brief overview of your analysis approach. This includes:\n",
        "\n",
        "-   Description of the response variable.\n",
        "-   Visualization and summary statistics for the response variable.\n",
        "-   List of variables that will be considered as predictors\n",
        "-   Your model type (what kind of model(s) will you use ... e.g. linear regression)"
      ]
    },
    {
      "cell_type": "markdown",
      "metadata": {
        "id": "m6WTTAytbSXF"
      },
      "source": [
        "## Data dictionary\n",
        "\n",
        "*Create a data dictionary for all the variables in your data set. You may fill out the data description table or create your own table with Pandas:*\n",
        "\n",
        "<br>\n",
        "\n",
        "\n",
        "| Name  |   Description\t| Role   \t| Type   \t|  Format \t|\n",
        "|---\t|---\t        |---    \t|---\t    |---\t|\n",
        "|   \t|   \t        |   \t    |   \t    |   \t|\n",
        "|   \t|   \t        |   \t    |   \t    |   \t|\n",
        "|   \t|   \t        |   \t    |   \t    |   \t|\n",
        "\n",
        "\n",
        "<br>\n",
        "\n",
        "- `Role`: response, predictor, ID (ID columns are not used in a model but can help to better understand the data)\n",
        "\n",
        "- `Type`: nominal, ordinal or numeric\n",
        "\n",
        "- `Format`: int, float, string, category, date or object"
      ]
    },
    {
      "cell_type": "markdown",
      "source": [
        "# Overiew of data"
      ],
      "metadata": {
        "id": "khuAsEDfbuAc"
      }
    },
    {
      "cell_type": "markdown",
      "source": [
        "Import data from GitHub"
      ],
      "metadata": {
        "id": "uABYDbxScA3D"
      }
    },
    {
      "cell_type": "code",
      "source": [
        "#| code-line-numbers: '|1|3|5|'\n",
        "URL = \"https://raw.githubusercontent.com/paulovfc/supermarket_get/master/dataset_gruppe_A_csv.csv\"\n",
        "\n",
        "df_github = pd.read_csv(URL, sep=\";\", decimal='.', encoding_errors='ignore')\n",
        "\n",
        "df_github.head()"
      ],
      "metadata": {
        "id": "G6i1KSc2cWh4"
      },
      "execution_count": null,
      "outputs": []
    },
    {
      "cell_type": "markdown",
      "source": [
        "Data overview"
      ],
      "metadata": {
        "id": "nu7J4eP0cEug"
      }
    },
    {
      "cell_type": "code",
      "source": [
        "df_github"
      ],
      "metadata": {
        "id": "wgenyw7zccI0"
      },
      "execution_count": null,
      "outputs": []
    },
    {
      "cell_type": "markdown",
      "source": [
        "Info"
      ],
      "metadata": {
        "id": "lLEQpiHJcHy6"
      }
    },
    {
      "cell_type": "code",
      "source": [
        "df_github.info()"
      ],
      "metadata": {
        "id": "XMNWsWTSciEo"
      },
      "execution_count": null,
      "outputs": []
    },
    {
      "cell_type": "markdown",
      "source": [
        "Show column names"
      ],
      "metadata": {
        "id": "aS9dpiG2cMVh"
      }
    },
    {
      "cell_type": "code",
      "source": [
        "df_github.columns"
      ],
      "metadata": {
        "id": "UJbYF6qTcr_R"
      },
      "execution_count": null,
      "outputs": []
    },
    {
      "cell_type": "markdown",
      "source": [
        "Show data types"
      ],
      "metadata": {
        "id": "JJ0pg51rcPC1"
      }
    },
    {
      "cell_type": "code",
      "source": [
        "df_github.dtypes"
      ],
      "metadata": {
        "id": "0fI5XuEGczUP"
      },
      "execution_count": null,
      "outputs": []
    },
    {
      "cell_type": "markdown",
      "source": [
        "# Summary statistics for response variable: \"Column1\"\n",
        "Info: \"Column1\" is a clone of \"PRICE\""
      ],
      "metadata": {
        "id": "xcFTnMLIb5Y_"
      }
    },
    {
      "cell_type": "markdown",
      "source": [
        "List property prices"
      ],
      "metadata": {
        "id": "aq7bAl0UgASn"
      }
    },
    {
      "cell_type": "code",
      "source": [
        "df_github[\"Column1\"]"
      ],
      "metadata": {
        "colab": {
          "base_uri": "https://localhost:8080/"
        },
        "id": "T4AbsLB9gDEi",
        "outputId": "2590e6d0-0e3e-4a0a-ac92-31555fb3f5b6"
      },
      "execution_count": 39,
      "outputs": [
        {
          "output_type": "execute_result",
          "data": {
            "text/plain": [
              "0      2539000.0\n",
              "1       225000.0\n",
              "2       195000.0\n",
              "3       483623.0\n",
              "4       433956.0\n",
              "         ...    \n",
              "956     909000.0\n",
              "957     819000.0\n",
              "958     295000.0\n",
              "959     198000.0\n",
              "960     729000.0\n",
              "Name: Column1, Length: 961, dtype: float64"
            ]
          },
          "metadata": {},
          "execution_count": 39
        }
      ]
    },
    {
      "cell_type": "markdown",
      "source": [
        "Mean"
      ],
      "metadata": {
        "id": "AGjPDReudYBH"
      }
    },
    {
      "cell_type": "code",
      "source": [
        "df_github[\"Column1\"].mean()"
      ],
      "metadata": {
        "colab": {
          "base_uri": "https://localhost:8080/"
        },
        "id": "h8GROtBedkaf",
        "outputId": "401fc04f-18db-4cc1-bb7e-c9c417cd740c"
      },
      "execution_count": 35,
      "outputs": [
        {
          "output_type": "execute_result",
          "data": {
            "text/plain": [
              "460907.3054110302"
            ]
          },
          "metadata": {},
          "execution_count": 35
        }
      ]
    },
    {
      "cell_type": "markdown",
      "source": [
        "Median"
      ],
      "metadata": {
        "id": "2M0CwbI9dZMD"
      }
    },
    {
      "cell_type": "code",
      "source": [
        "df_github[\"Column1\"].median()"
      ],
      "metadata": {
        "colab": {
          "base_uri": "https://localhost:8080/"
        },
        "id": "GudeVGJsd76e",
        "outputId": "32c41397-45a5-425f-9b2e-f009096d0171"
      },
      "execution_count": 36,
      "outputs": [
        {
          "output_type": "execute_result",
          "data": {
            "text/plain": [
              "295000.0"
            ]
          },
          "metadata": {},
          "execution_count": 36
        }
      ]
    },
    {
      "cell_type": "markdown",
      "source": [
        "Variance"
      ],
      "metadata": {
        "id": "8xZcG9yidawT"
      }
    },
    {
      "cell_type": "code",
      "source": [
        "df_github[\"Column1\"].var()"
      ],
      "metadata": {
        "colab": {
          "base_uri": "https://localhost:8080/"
        },
        "id": "2Z3TfG3kd-sm",
        "outputId": "9a734fd1-3491-4d43-d1be-34867d02143f"
      },
      "execution_count": 37,
      "outputs": [
        {
          "output_type": "execute_result",
          "data": {
            "text/plain": [
              "10385112324652.906"
            ]
          },
          "metadata": {},
          "execution_count": 37
        }
      ]
    },
    {
      "cell_type": "markdown",
      "source": [
        "IQR"
      ],
      "metadata": {
        "id": "lTUjC_Xcdb3o"
      }
    }
  ],
  "metadata": {
    "kernelspec": {
      "display_name": "Python 3.9.12 ('base')",
      "language": "python",
      "name": "python3"
    },
    "language_info": {
      "name": "python",
      "version": "3.9.12"
    },
    "orig_nbformat": 4,
    "vscode": {
      "interpreter": {
        "hash": "463226f144cc21b006ce6927bfc93dd00694e52c8bc6857abb6e555b983749e9"
      }
    },
    "colab": {
      "provenance": []
    }
  },
  "nbformat": 4,
  "nbformat_minor": 0
}